{
 "cells": [
  {
   "cell_type": "markdown",
   "id": "ac9dc409",
   "metadata": {},
   "source": [
    "# Barrier swaption"
   ]
  },
  {
   "cell_type": "markdown",
   "id": "79c788ed",
   "metadata": {},
   "source": [
    "In this section we consider Monte Carlo evaluation of a knock-out swaption\n",
    "under the LMM. We use the knock-out swaption as a guide in our exposition,\n",
    "its treatment is rather general and it can be used to value diﬀerent barrier\n",
    "options, where the underlying and barrier can be expressed as functionals of\n",
    "some diﬀusion process."
   ]
  },
  {
   "cell_type": "markdown",
   "id": "28e2f255",
   "metadata": {},
   "source": [
    "A European payer (receiver) swaption is an option that gives its holder a\n",
    "right, but not an obligation, to enter a payer (receiver) swap at a future date\n",
    "at a given fixed rate K. Usually, the swaption maturity coincides with the first\n",
    "reset date T0 of the underlying swap. The underlying swap length TN− T0 is\n",
    "called the tenor of the swaption."
   ]
  },
  {
   "cell_type": "markdown",
   "id": "58883521",
   "metadata": {},
   "source": [
    "$$\n",
    "V_{\\text{swaption}}(0) = P(0, T_0) \\, \\mathbb{E}^{\\mathbb{Q}^{T_0}} \\left[\n",
    "\\delta \\left( R_{\\text{swap}}(T_0) - K \\right)_+\n",
    "\\sum_{j=1}^{N} P(T_0, T_j) \\, \\chi(\\theta > T_0)\n",
    "\\right]\n",
    "\\tag{6.1}\n",
    "$$\n",
    "\n",
    "where $\\theta$ is the first exit time of the process $R_{\\text{swap}}(s), s \\geq 0$,\n",
    "from the interval $(0, R_{\\text{up}})$.\n",
    "That is, $\\theta$ is the earliest time at which the swap rate crosses the upper barrier $R_{\\text{up}}$,\n",
    "causing the knock-out feature of the swaption to be triggered."
   ]
  },
  {
   "cell_type": "code",
   "execution_count": 22,
   "id": "6255f90c",
   "metadata": {},
   "outputs": [],
   "source": [
    "import numpy as np\n",
    "from scipy.linalg import cholesky\n",
    "from scipy.optimize import minimize\n",
    "from tqdm import tqdm"
   ]
  },
  {
   "cell_type": "markdown",
   "id": "5eec6878",
   "metadata": {},
   "source": [
    "## 1. Swap Rate Function"
   ]
  },
  {
   "cell_type": "markdown",
   "id": "39e2f2c1",
   "metadata": {},
   "source": [
    "The swap rate $R_{swap}(s)$ can be expressed in terms of the spanning LIBOR rates as:\n",
    "\n",
    "$$\n",
    "R_{\\text{swap}}(s) = \\frac{1 - \\frac{1}{\\prod\\limits_{j=0}^{N-1} \\left(1 + \\delta L^j(s)\\right)}}\n",
    "{\\delta \\sum\\limits_{i=0}^{N-1} \\frac{1}{\\prod\\limits_{j=0}^{i} \\left(1 + \\delta L^j(s)\\right)}}.\n",
    "\\tag{6.2}\n",
    "$$"
   ]
  },
  {
   "cell_type": "code",
   "execution_count": 23,
   "id": "04594b00",
   "metadata": {},
   "outputs": [],
   "source": [
    "def R_swap(logL, delta):\n",
    "    L = np.exp(logL)\n",
    "    discount_prod = np.prod(1 + delta * L)\n",
    "    numer = 1 - 1.0 / discount_prod\n",
    "    denom = delta * np.sum(1.0 / np.cumprod(1 + delta * L))\n",
    "    return numer / denom"
   ]
  },
  {
   "cell_type": "markdown",
   "id": "54097bb1",
   "metadata": {},
   "source": [
    "## 2. Projection sur la surface barrière"
   ]
  },
  {
   "cell_type": "markdown",
   "id": "17e0ed67",
   "metadata": {},
   "source": [
    "For completeness of the exposition, let us discuss how the projection $\\ln L_k^{\\pi}$\n",
    "can be simulated before we return to the description of the algorithm. The\n",
    "problem of finding point $\\ln L_k^{\\pi}$ is equivalent to finding the minimum value of the function\n",
    "\n",
    "$$\n",
    "\\left| \\ln L_k^\\pi - \\ln L_k \\right|^2 = \\left( \\ln L_k^{\\pi,0} - \\ln L_k^0 \\right)^2 + \\cdots + \\left( \\ln L_k^{\\pi,N-1} - \\ln L_k^{N-1} \\right)^2 \\tag{6.11}\n",
    "$$\n",
    "subject to the constraint\n",
    "$$\n",
    "\\ln \\left(\n",
    "\\frac{ \\displaystyle\\prod_{j=0}^{N-1} \\left( 1 + \\delta L_k^{\\pi,j} \\right) - 1 }{\n",
    "\\delta \\left( 1 + \\displaystyle\\sum_{i=0}^{N-2} \\prod_{j=i+1}^{N-1} \\left( 1 + \\delta L_k^{\\pi,j} \\right) \\right) }\n",
    "\\right) = \\ln R_{\\text{up}} \\tag{6.12}\n",
    "$$"
   ]
  },
  {
   "cell_type": "code",
   "execution_count": 24,
   "id": "2e6012e7",
   "metadata": {},
   "outputs": [],
   "source": [
    "def project_to_barrier(x, delta, Rup):\n",
    "    cons = {\n",
    "        'type': 'eq',\n",
    "        'fun': lambda logL: np.log(R_swap(logL, delta)) - np.log(Rup)\n",
    "    }\n",
    "    res = minimize(\n",
    "        fun=lambda logL: np.sum((logL - x)**2),\n",
    "        x0=x.copy(),\n",
    "        constraints=cons,\n",
    "        method='SLSQP'\n",
    "    )\n",
    "    if not res.success:\n",
    "        raise RuntimeError(\"Projection failed: \" + res.message)\n",
    "    return res.x"
   ]
  },
  {
   "cell_type": "markdown",
   "id": "57cb8412",
   "metadata": {},
   "source": [
    "Hence the minimization problem is reduced to finding the point $\\ln L_k^{\\pi,1}, \\ldots, \\ln L_k^{\\pi,N-1}$ at which the function $|\\ln L_k^{\\pi} - \\ln L_k|^2$ from (6.11) with $\\ln L_k^{\\pi,0}$ from (6.13) has its minimum value. This optimization problem can be solved using standard procedures, e.g. the MATLAB function lsqnonlin().\n"
   ]
  },
  {
   "cell_type": "markdown",
   "id": "983b1271",
   "metadata": {},
   "source": [
    "The equation (6.13) is given by:\n",
    "$$\n",
    "\\ln L_k^{\\pi,0} = \\ln \\left( \\frac{\n",
    "R_{up} \\cdot \\left( 1 + \\sum_{i=0}^{N-2} \\prod_{j=i+1}^{N-1} \\left( 1 + \\delta L_k^{\\pi,j} \\right) \\right) + 1\n",
    "}{\n",
    "\\prod_{j=1}^{N-1} \\left( 1 + \\delta L_k^{\\pi,j} \\right)\n",
    "} - \\frac{1}{\\delta} \\right) \\tag{6.13}\n",
    "$$"
   ]
  },
  {
   "cell_type": "code",
   "execution_count": 45,
   "id": "f4251028",
   "metadata": {},
   "outputs": [],
   "source": [
    "# -- Fast projection to barrier (N-1 unconstrained) --\n",
    "def project_to_barrier2(x, delta, Rup):\n",
    "    \"\"\"\n",
    "    Projection rapide via élimination analytique de ln L[0] (eq.6.13) et optimisation sur ln L[1..N-1].\n",
    "    \"\"\"\n",
    "    N = x.shape[0]\n",
    "\n",
    "    def objective(y):\n",
    "        # y = logL[1..N-1]\n",
    "        Lpi_tail = np.exp(y)                  # LIBOR rates\n",
    "        one_plus = 1 + delta * Lpi_tail       # (1+δ·Lpi)\n",
    "        # produits inverses cumulés: prods[i] = ∏_{j=i..N-2} one_plus[j]\n",
    "        revcp = np.cumprod(one_plus[::-1])[::-1]\n",
    "        prods = revcp  # shape (N-1,)\n",
    "        sum_term = 1 + prods.sum()\n",
    "        numerator = Rup * sum_term + 1\n",
    "        denominator = np.prod(one_plus)\n",
    "        # Formule 6.13 pour ln L0 (soustraction hors du log)\n",
    "        logL0 = np.log(numerator / denominator) - 1.0 / delta\n",
    "        # Construire vecteur complet logLpi\n",
    "        logLpi = np.empty(N)\n",
    "        logLpi[0] = logL0\n",
    "        logLpi[1:] = y\n",
    "        return np.sum((logLpi - x)**2)\n",
    "\n",
    "    # initialisation et optimisation\n",
    "    y0 = x[1:].copy()\n",
    "    res = minimize(objective, y0, method='L-BFGS-B')\n",
    "    if not res.success:\n",
    "        raise RuntimeError(\"Projection2 failed: \" + res.message)\n",
    "    y_opt = res.x\n",
    "\n",
    "    # Reconstruction finale de logLpi\n",
    "    Lpi_tail = np.exp(y_opt)\n",
    "    one_plus = 1 + delta * Lpi_tail\n",
    "    revcp = np.cumprod(one_plus[::-1])[::-1]\n",
    "    prods = revcp\n",
    "    sum_term = 1 + prods.sum()\n",
    "    numerator = Rup * sum_term + 1\n",
    "    denominator = np.prod(one_plus)\n",
    "    logL0 = np.log(numerator / denominator) - 1.0 / delta\n",
    "    logLpi = np.empty(N)\n",
    "    logLpi[0] = logL0\n",
    "    logLpi[1:] = y_opt\n",
    "    return logLpi"
   ]
  },
  {
   "cell_type": "markdown",
   "id": "87f488ab",
   "metadata": {},
   "source": [
    "## 3. Setup du modèle"
   ]
  },
  {
   "cell_type": "markdown",
   "id": "42bfd54a",
   "metadata": {},
   "source": [
    "- Nombre de forward rates `N`\n",
    "- Maturité $(T_0)$ découpée en `M` pas de taille `h`\n",
    "- Courbe initiale `L0`, volatilités `sigma`\n",
    "- Corrélation exponentielle $( \\rho_{ij} = e^{-\\beta|T_i - T_j|} $)"
   ]
  },
  {
   "cell_type": "code",
   "execution_count": 27,
   "id": "82e37e7b",
   "metadata": {},
   "outputs": [],
   "source": [
    "# Paramètres\n",
    "N     = 10\n",
    "T0    = 10.0\n",
    "delta = 1.0\n",
    "M     = 100\n",
    "h     = T0 / M\n",
    "K     = 0.01   # Strike\n",
    "Rup   = 0.075  # Barrier\n",
    "L0    = 0.05 * np.ones(N)\n",
    "sigma = 0.10 * np.ones(N)\n",
    "beta  = 0.1"
   ]
  },
  {
   "cell_type": "markdown",
   "id": "2d9e29f2",
   "metadata": {},
   "source": [
    "$$\n",
    "\\rho_{i,j} = \\exp(-\\beta |T_i - T_j|).\n",
    "\\tag{3.6}\n",
    "$$\n",
    "\n",
    "Where $U$ is the upper triangular matrix\n",
    "$$\n",
    "\\rho = UU^\\top,\n",
    "\\tag{3.5}\n",
    "$$"
   ]
  },
  {
   "cell_type": "code",
   "execution_count": 28,
   "id": "07c89294",
   "metadata": {},
   "outputs": [],
   "source": [
    "# Corrélation et Cholesky\n",
    "times = np.arange(N) * delta + T0 - N * delta\n",
    "rho   = np.exp(-beta * np.abs(times[:, None] - times[None, :]))\n",
    "U     = cholesky(rho, lower=False)"
   ]
  },
  {
   "cell_type": "code",
   "execution_count": 29,
   "id": "183bacb5",
   "metadata": {},
   "outputs": [],
   "source": [
    "# PRICE conventionnel\n",
    "P0_T0 = 1.0 / (1 + delta * L0[0])"
   ]
  },
  {
   "cell_type": "code",
   "execution_count": 30,
   "id": "ed1e2049",
   "metadata": {},
   "outputs": [],
   "source": [
    "# Matrice précomputée pour drift (i >= j)\n",
    "full_mat  = rho * np.outer(sigma, sigma)\n",
    "drift_mat = np.tril(full_mat)"
   ]
  },
  {
   "cell_type": "markdown",
   "id": "a0d2d091",
   "metadata": {},
   "source": [
    "## 4. Simulation Monte Carlo\n",
    "\n",
    "- **Coarse check** : test rapide pour rester loin de la barrière\n",
    "- **Fine check** : perturbation maximale en un pas\n",
    "- **Boundary zone** : projection + saut auxiliaire"
   ]
  },
  {
   "cell_type": "markdown",
   "id": "654d3897",
   "metadata": {},
   "source": [
    "Introduce\n",
    "$$ \\ln L_{k, Max} = \\max_i \\ln L_k^i $$\n",
    "\n",
    "$$\n",
    "\\ln \\hat{L}_{k+1} = \\ln L_{k, Max} + \\sigma_{Max}^2 hN - \\frac{1}{2} \\sigma_{Max}^2 h + \\sigma_{Max} \\sqrt{hN}, \\tag{6.7}\n",
    "$$\n",
    "\n",
    "where $$ \\sigma_{Max} = \\max_{i,k} \\sigma_i(t_k).$$\n",
    "Using the fact that $$ R_{swap}(\\hat{L}_{k+1}, …, \\hat{L}_{k+1}) = \\hat{L}_{k+1} $$"
   ]
  },
  {
   "cell_type": "code",
   "execution_count": 31,
   "id": "734200fd",
   "metadata": {},
   "outputs": [],
   "source": [
    "# Nombre de chemins\n",
    "n_paths    = 100_000\n",
    "payoffs    = np.zeros(n_paths)\n",
    "exit_times = np.zeros(n_paths)  # stocke l'étape d'exit pour chaque chemin\n",
    "# Nouvelle variable pour stocker la somme des discounts P(T0,Tj) pour chemins survivants\n",
    "discount_sums = np.zeros(n_paths)\n",
    "prices = np.zeros(n_paths)"
   ]
  },
  {
   "cell_type": "code",
   "execution_count": null,
   "id": "ea91c430",
   "metadata": {},
   "outputs": [
    {
     "name": "stderr",
     "output_type": "stream",
     "text": [
      "MC paths: 100%|██████████| 100000/100000 [03:38<00:00, 457.59it/s]\n"
     ]
    }
   ],
   "source": [
    "for p in tqdm(range(n_paths), desc=\"MC paths\"):\n",
    "    # Initialize per-path variables\n",
    "    logL = np.log(L0)\n",
    "    knocked_out = False\n",
    "    exit_step = M\n",
    "    # Precompute coarse_bound from eq (6.7)\n",
    "    sigma_max = np.max(sigma)\n",
    "    coarse_bound = (\n",
    "        sigma_max**2 * h * N\n",
    "        - 0.5 * sigma_max**2 * h\n",
    "        + sigma_max * np.sqrt(h * N)\n",
    "    )\n",
    "\n",
    "    for k in range(M):\n",
    "        L = np.exp(logL)\n",
    "        # Drift vector\n",
    "        v         = delta * L / (1 + delta * L)\n",
    "        drift_vec = drift_mat.dot(v) * h - 0.5 * sigma**2 * h\n",
    "\n",
    "        # Coarse check: bound from (6.7)\n",
    "        if np.max(logL) + coarse_bound < np.log(Rup):\n",
    "            xi        = np.random.choice([-1,1], size=N)\n",
    "            diffusion = sigma * np.sqrt(h) * (U @ xi)\n",
    "            logL    += drift_vec + diffusion\n",
    "            continue\n",
    "\n",
    "        # Fine check: worst-case drift + diffusion per coordinate\n",
    "        L_vec = L  # already computed\n",
    "        idx   = np.arange(N)\n",
    "        drift_worst = (idx + 1) * sigma * sigma_max * h\n",
    "        diff_worst  = sigma * np.sqrt((N - idx) * h)\n",
    "        L_pert      = L_vec * (1 + drift_worst + diff_worst)\n",
    "        logL_pert   = np.log(L_pert)\n",
    "        if R_swap(logL_pert, delta) < Rup:\n",
    "            xi        = np.random.choice([-1,1], size=N)\n",
    "            diffusion = sigma * np.sqrt(h) * (U @ xi)\n",
    "            logL    += drift_vec + diffusion\n",
    "            continue\n",
    "\n",
    "        # Boundary zone\n",
    "        logL_pi = project_to_barrier2(logL, delta, Rup)\n",
    "        dist    = np.linalg.norm(logL_pi - logL)\n",
    "        lambda_k = np.sqrt(N) * coarse_bound  # use bound as lambda*sqrt(h)\n",
    "\n",
    "        if np.random.rand() < lambda_k / (dist + lambda_k):\n",
    "            knocked_out = True\n",
    "            exit_step   = k\n",
    "            break\n",
    "\n",
    "        # Jump back then Euler\n",
    "        logL    += (lambda_k / dist) * (logL_pi - logL)\n",
    "        xi        = np.random.choice([-1,1], size=N)\n",
    "        diffusion = sigma * np.sqrt(h) * (U @ xi)\n",
    "        logL    += drift_vec + diffusion\n",
    "\n",
    "    exit_times[p] = exit_step * h\n",
    "    if not knocked_out:\n",
    "        payoffs[p] = delta * max(R_swap(logL, delta) - K, 0)\n",
    "        # L est le vecteur des prix finaux des forwards: L_end = exp(logL)\n",
    "        L_end = np.exp(logL)\n",
    "        # discount_curve[j] = P(T0, T_{j+1}) = prod_{i=0..j} 1/(1+delta*L_end[i])\n",
    "        discount_curve = np.cumprod(1.0/(1 + delta * L_end))\n",
    "        # somme pour j=1...N\n",
    "        discount_sums[p] = np.sum(discount_curve)\n",
    "        prices[p] = P0_T0 * (discount_sums[p] * payoffs[p])"
   ]
  },
  {
   "cell_type": "markdown",
   "id": "13e43d53",
   "metadata": {},
   "source": [
    "# Parallélisation"
   ]
  },
  {
   "cell_type": "markdown",
   "id": "2b99976f",
   "metadata": {},
   "source": [
    "## 5. Résultat\n",
    "\n",
    "Calcul du prix par moyenne des payoffs et actualisation"
   ]
  },
  {
   "cell_type": "code",
   "execution_count": 47,
   "id": "15269bed",
   "metadata": {},
   "outputs": [
    {
     "name": "stdout",
     "output_type": "stream",
     "text": [
      "Barrier swaption price:    0.265705\n",
      "Mean exit time (in years): 9.3058\n"
     ]
    }
   ],
   "source": [
    "price           = np.mean(prices)\n",
    "mean_exit_time  = np.mean(exit_times)\n",
    "print(f\"Barrier swaption price:    {price:.6f}\")\n",
    "print(f\"Mean exit time (in years): {mean_exit_time:.4f}\")"
   ]
  },
  {
   "cell_type": "markdown",
   "id": "2eb505dc",
   "metadata": {},
   "source": [
    "## 6. Approximation analytique\n",
    "\n",
    "Pour comparaison, sous le **Swap Market Model (SMM)**, on dispose d'une solution fermée analogue à l'équation (4.3) pour la swaption à barrière :\n"
   ]
  },
  {
   "cell_type": "markdown",
   "id": "75d5e452",
   "metadata": {},
   "source": [
    "```\n",
    "V_swaption_SMM(0) = δ ∑_{j=1}^N P(0,T_j) { R_swap(0)[Φ(δ₊(R_swap(0)/K, v)) - Φ(δ₊(R_swap(0)/R_up, v))]\n",
    "                                   - K[Φ(δ₋(R_swap(0)/K, v)) - Φ(δ₋(R_swap(0)/R_up, v))] }\n",
    "```\n",
    "\n",
    "avec\n",
    "```\n",
    "δ₊(x,v) = (ln x + v²/2)/v,   δ₋(x,v) = (ln x - v²/2)/v,\n",
    " v² ≈ ∑_{i,j} ω_i(0) ω_j(0) L_i(0)L_j(0) ρ_{ij} ∫₀^{T0} σ_i(s)σ_j(s) ds\n",
    "```"
   ]
  },
  {
   "cell_type": "markdown",
   "id": "5d8e6f91",
   "metadata": {},
   "source": [
    "Cette approximation sert de référence pour évaluer la cohérence de la simulation LMM."
   ]
  },
  {
   "cell_type": "code",
   "execution_count": 120,
   "id": "2c2d4011",
   "metadata": {},
   "outputs": [],
   "source": [
    "from scipy.stats import norm"
   ]
  },
  {
   "cell_type": "code",
   "execution_count": 191,
   "id": "9418ec79",
   "metadata": {},
   "outputs": [
    {
     "name": "stdout",
     "output_type": "stream",
     "text": [
      "Swap rate initial R0:         0.050000\n",
      "Volatilité effective v:       0.081966\n",
      "Prix analytique barrière SMM: 0.308865\n"
     ]
    }
   ],
   "source": [
    "# Swap rate initial R0\n",
    "R0 = R_swap(np.log(L0), delta)\n",
    "\n",
    "# --- 4) Discount factors P(0,Tj) pour j=1..N ---\n",
    "P0_T = np.concatenate(([1.0], np.cumprod(1.0 / (1 + delta * L0))))\n",
    "annuity = np.sum(P0_T[1:])   # somme des P(0,Tj)\n",
    "\n",
    "# --- 5) Pondérations ω_i(0) vectorisées ---\n",
    "prefix = np.cumprod(1 + delta * L0)            # Π_{j=0..i}(1+δ L0[j])\n",
    "denom_w = delta * np.sum(1.0 / prefix)\n",
    "weights = (1.0 - 1.0 / prefix) / denom_w       # shape (N,)\n",
    "\n",
    "# --- 6) Volatilité effective v selon Rebonato (6.5) ---\n",
    "# ∫₀^T0 σ_i(s)σ_j(s) ds = σ_i * σ_j * T0\n",
    "integrals = np.outer(sigma, sigma) * T0         # matrice (i,j)\n",
    "wL = weights * L0                              # vecteur (i)\n",
    "num = np.outer(wL, wL) * rho * integrals        # numérateur v²\n",
    "v2  = num.sum() / (R0**2)\n",
    "v   = np.sqrt(v2)\n",
    "\n",
    "# --- 7) Fonctions d± ---\n",
    "dplus  = lambda x: (np.log(x) + 0.5 * v**2) / v\n",
    "dminus = lambda x: (np.log(x) - 0.5 * v**2) / v\n",
    "\n",
    "# --- 8) Ratios clé ---\n",
    "x1 = R0 / K\n",
    "x2 = R0 / Rup\n",
    "y1 = Rup**2 / (K * R0)\n",
    "y2 = Rup / R0\n",
    "\n",
    "# --- 9) Termes de la formule fermée (6.4) ---\n",
    "term1 = R0 * (norm.cdf(dplus(x1)) - norm.cdf(dplus(x2)))\n",
    "term2 = - norm.cdf(dplus(x2))\n",
    "term3 = - K   * (norm.cdf(dminus(x1)) - norm.cdf(dminus(x2)))\n",
    "term4 = - Rup * (norm.cdf(dplus(y1)) - norm.cdf(dplus(y2)))\n",
    "term5 =   K*R0 * (norm.cdf(dminus(y1)) - norm.cdf(dminus(y2)))\n",
    "\n",
    "# --- 10) Prix analytique final ---\n",
    "price_analytic = delta * annuity * (term1 + term2 + term3 + term4 + term5)\n",
    "\n",
    "print(f\"Swap rate initial R0:         {R0:.6f}\")\n",
    "print(f\"Volatilité effective v:       {v:.6f}\")\n",
    "print(f\"Prix analytique barrière SMM: {price_analytic:.6f}\")"
   ]
  },
  {
   "cell_type": "markdown",
   "id": "dc3579d5",
   "metadata": {},
   "source": [
    "# 7. Comparaison avec méthode MC 1/2 ordre faible"
   ]
  },
  {
   "cell_type": "code",
   "execution_count": 54,
   "id": "800adefa",
   "metadata": {},
   "outputs": [
    {
     "name": "stderr",
     "output_type": "stream",
     "text": [
      "MC paths: 100%|██████████| 100000/100000 [03:14<00:00, 512.99it/s]\n"
     ]
    }
   ],
   "source": [
    "for p in tqdm(range(n_paths), desc=\"MC paths\"):\n",
    "    logL        = np.log(L0)\n",
    "    knocked_out = False\n",
    "    exit_step   = M\n",
    "\n",
    "    # pré-calcul constant\n",
    "    sigma_max   = np.max(sigma)\n",
    "    coarse_bound = (\n",
    "        sigma_max**2 * h * N\n",
    "        - 0.5 * sigma_max**2 * h\n",
    "        + sigma_max * np.sqrt(h * N)\n",
    "    )\n",
    "\n",
    "    for k in range(M):\n",
    "        L         = np.exp(logL)\n",
    "        # drift Euler faible\n",
    "        v         = delta * L / (1 + delta * L)\n",
    "        drift_vec = drift_mat.dot(v) * h - 0.5 * sigma**2 * h\n",
    "\n",
    "        # 1) Coarse check : si loin de la barrière\n",
    "        if np.max(logL) + coarse_bound < np.log(Rup):\n",
    "            xi        = np.random.choice([-1,1], size=N)\n",
    "            diffusion = sigma * np.sqrt(h) * (U @ xi)\n",
    "            logL    += drift_vec + diffusion\n",
    "            continue\n",
    "\n",
    "        # 2) Fine check : worst-case drift+diffusion par composante\n",
    "        idx         = np.arange(N)\n",
    "        drift_worst = (idx + 1) * sigma * sigma_max * h\n",
    "        diff_worst  = sigma * np.sqrt((N - idx) * h)\n",
    "        L_pert      = L * (1 + drift_worst + diff_worst)\n",
    "        logL_pert   = np.log(L_pert)\n",
    "        if R_swap(logL_pert, delta) < Rup:\n",
    "            xi        = np.random.choice([-1,1], size=N)\n",
    "            diffusion = sigma * np.sqrt(h) * (U @ xi)\n",
    "            logL    += drift_vec + diffusion\n",
    "            continue\n",
    "\n",
    "        # 3) Zone frontière : projection & stop (ordre 1/2)\n",
    "        logL        = project_to_barrier2(logL, delta, Rup)\n",
    "        exit_step   = k\n",
    "        knocked_out = True\n",
    "        break\n",
    "\n",
    "    exit_times[p] = exit_step * h\n",
    "\n",
    "    if not knocked_out:\n",
    "        payoffs[p]     = delta * max(R_swap(logL, delta) - K, 0)\n",
    "        discounts      = np.cumprod(1.0 / (1 + delta * np.exp(logL)))\n",
    "        discount_sums[p] = np.sum(discounts)\n",
    "        prices[p]       = P0_T0 * discount_sums[p] * payoffs[p]"
   ]
  },
  {
   "cell_type": "code",
   "execution_count": 57,
   "id": "57c94609",
   "metadata": {},
   "outputs": [
    {
     "name": "stdout",
     "output_type": "stream",
     "text": [
      "Barrier swaption price:    0.271849\n",
      "Mean exit time (in years): 9.2630\n"
     ]
    }
   ],
   "source": [
    "price           = np.mean(prices)\n",
    "mean_exit_time  = np.mean(exit_times)\n",
    "print(f\"Barrier swaption price:    {price:.6f}\")\n",
    "print(f\"Mean exit time (in years): {mean_exit_time:.4f}\")"
   ]
  },
  {
   "cell_type": "markdown",
   "id": "d9316692",
   "metadata": {},
   "source": [
    "# 8. Variance reduction"
   ]
  },
  {
   "cell_type": "code",
   "execution_count": null,
   "id": "4eefa505",
   "metadata": {},
   "outputs": [],
   "source": []
  }
 ],
 "metadata": {
  "kernelspec": {
   "display_name": "env_py_31011",
   "language": "python",
   "name": "python3"
  },
  "language_info": {
   "codemirror_mode": {
    "name": "ipython",
    "version": 3
   },
   "file_extension": ".py",
   "mimetype": "text/x-python",
   "name": "python",
   "nbconvert_exporter": "python",
   "pygments_lexer": "ipython3",
   "version": "3.10.14"
  }
 },
 "nbformat": 4,
 "nbformat_minor": 5
}
